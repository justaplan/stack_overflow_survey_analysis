{
  "nbformat": 4,
  "nbformat_minor": 0,
  "metadata": {
    "colab": {
      "name": "stack_overflow_survey.ipynb",
      "provenance": [],
      "collapsed_sections": [],
      "authorship_tag": "ABX9TyNAPw9pau//Rk7UO/aWVSMz",
      "include_colab_link": true
    },
    "kernelspec": {
      "name": "python3",
      "display_name": "Python 3"
    }
  },
  "cells": [
    {
      "cell_type": "markdown",
      "metadata": {
        "id": "view-in-github",
        "colab_type": "text"
      },
      "source": [
        "<a href=\"https://colab.research.google.com/github/justaplan/stack_overflow_survey_analysis/blob/master/stack_overflow_survey.ipynb\" target=\"_parent\"><img src=\"https://colab.research.google.com/assets/colab-badge.svg\" alt=\"Open In Colab\"/></a>"
      ]
    },
    {
      "cell_type": "code",
      "metadata": {
        "id": "u5Pw-pcj9qwj",
        "colab_type": "code",
        "colab": {
          "base_uri": "https://localhost:8080/",
          "height": 51
        },
        "outputId": "76c9fbca-0864-4539-86b2-2c8122b99792"
      },
      "source": [
        "from google.colab import drive\n",
        "\n",
        "drive.mount(\"/content/gdrive\" , force_remount=True)\n",
        "\n",
        "%cd \"/content/gdrive/My Drive/Python/List of CSV\""
      ],
      "execution_count": 1,
      "outputs": [
        {
          "output_type": "stream",
          "text": [
            "Mounted at /content/gdrive\n",
            "/content/gdrive/My Drive/Python/List of CSV\n"
          ],
          "name": "stdout"
        }
      ]
    },
    {
      "cell_type": "code",
      "metadata": {
        "id": "0cb0ErCm-w9B",
        "colab_type": "code",
        "colab": {}
      },
      "source": [
        "import pandas as pd\n",
        "import matplotlib.pyplot as plt"
      ],
      "execution_count": 2,
      "outputs": []
    },
    {
      "cell_type": "code",
      "metadata": {
        "id": "0Cy9RrmPANYF",
        "colab_type": "code",
        "colab": {}
      },
      "source": [
        "df = pd.read_csv(\"survey_results_public.csv\", index_col=\"Respondent\")\n",
        "schema_df = pd.read_csv(\"survey_results_schema.csv\", index_col=\"Column\")"
      ],
      "execution_count": 3,
      "outputs": []
    },
    {
      "cell_type": "code",
      "metadata": {
        "id": "bp3bNIDVBbVr",
        "colab_type": "code",
        "colab": {
          "base_uri": "https://localhost:8080/",
          "height": 391
        },
        "outputId": "cc4fcb39-5c54-4ee1-f49c-22366fd8e0c5"
      },
      "source": [
        "schema_df.index.values"
      ],
      "execution_count": 4,
      "outputs": [
        {
          "output_type": "execute_result",
          "data": {
            "text/plain": [
              "array(['Respondent', 'MainBranch', 'Hobbyist', 'OpenSourcer',\n",
              "       'OpenSource', 'Employment', 'Country', 'Student', 'EdLevel',\n",
              "       'UndergradMajor', 'EduOther', 'OrgSize', 'DevType', 'YearsCode',\n",
              "       'Age1stCode', 'YearsCodePro', 'CareerSat', 'JobSat', 'MgrIdiot',\n",
              "       'MgrMoney', 'MgrWant', 'JobSeek', 'LastHireDate', 'LastInt',\n",
              "       'FizzBuzz', 'JobFactors', 'ResumeUpdate', 'CurrencySymbol',\n",
              "       'CurrencyDesc', 'CompTotal', 'CompFreq', 'ConvertedComp',\n",
              "       'WorkWeekHrs', 'WorkPlan', 'WorkChallenge', 'WorkRemote',\n",
              "       'WorkLoc', 'ImpSyn', 'CodeRev', 'CodeRevHrs', 'UnitTests',\n",
              "       'PurchaseHow', 'PurchaseWhat', 'LanguageWorkedWith',\n",
              "       'LanguageDesireNextYear', 'DatabaseWorkedWith',\n",
              "       'DatabaseDesireNextYear', 'PlatformWorkedWith',\n",
              "       'PlatformDesireNextYear', 'WebFrameWorkedWith',\n",
              "       'WebFrameDesireNextYear', 'MiscTechWorkedWith',\n",
              "       'MiscTechDesireNextYear', 'DevEnviron', 'OpSys', 'Containers',\n",
              "       'BlockchainOrg', 'BlockchainIs', 'BetterLife', 'ITperson', 'OffOn',\n",
              "       'SocialMedia', 'Extraversion', 'ScreenName', 'SOVisit1st',\n",
              "       'SOVisitFreq', 'SOVisitTo', 'SOFindAnswer', 'SOTimeSaved',\n",
              "       'SOHowMuchTime', 'SOAccount', 'SOPartFreq', 'SOJobs', 'EntTeams',\n",
              "       'SOComm', 'WelcomeChange', 'SONewContent', 'Age', 'Gender',\n",
              "       'Trans', 'Sexuality', 'Ethnicity', 'Dependents', 'SurveyLength',\n",
              "       'SurveyEase'], dtype=object)"
            ]
          },
          "metadata": {
            "tags": []
          },
          "execution_count": 4
        }
      ]
    },
    {
      "cell_type": "markdown",
      "metadata": {
        "id": "Lj9hL4sQPDq-",
        "colab_type": "text"
      },
      "source": [
        "**<h1>Data Sorting</h1>**"
      ]
    },
    {
      "cell_type": "markdown",
      "metadata": {
        "id": "s3ds-9XvPg0x",
        "colab_type": "text"
      },
      "source": [
        "<h3>1. Sort 1 column</h3>"
      ]
    },
    {
      "cell_type": "code",
      "metadata": {
        "id": "kFvwppoYPISk",
        "colab_type": "code",
        "colab": {
          "base_uri": "https://localhost:8080/",
          "height": 238
        },
        "outputId": "a61101a2-84a0-4380-e165-2dc36d359b44"
      },
      "source": [
        "country_sort_df = df.sort_values(by=\"Country\")\n",
        "country_sort_df[\"Country\"]"
      ],
      "execution_count": 28,
      "outputs": [
        {
          "output_type": "execute_result",
          "data": {
            "text/plain": [
              "Respondent\n",
              "39258    Afghanistan\n",
              "63129    Afghanistan\n",
              "85715    Afghanistan\n",
              "50767    Afghanistan\n",
              "2782     Afghanistan\n",
              "            ...     \n",
              "88062            NaN\n",
              "88076            NaN\n",
              "88601            NaN\n",
              "88802            NaN\n",
              "88816            NaN\n",
              "Name: Country, Length: 88883, dtype: object"
            ]
          },
          "metadata": {
            "tags": []
          },
          "execution_count": 28
        }
      ]
    },
    {
      "cell_type": "markdown",
      "metadata": {
        "id": "G8Wsuz9RQJNI",
        "colab_type": "text"
      },
      "source": [
        "<h3>2. Sort Multiple Columns with specific arrangment</h3>"
      ]
    },
    {
      "cell_type": "code",
      "metadata": {
        "id": "ytNR4hhWPmdy",
        "colab_type": "code",
        "colab": {
          "base_uri": "https://localhost:8080/",
          "height": 450
        },
        "outputId": "d88f09d6-7aa6-465a-8b95-3711de58900a"
      },
      "source": [
        "multiple_sort_df = df.sort_values(by=[\"Country\",\"ConvertedComp\"],ascending=[True,False])\n",
        "multiple_sort_df[[\"Country\",\"ConvertedComp\"]]"
      ],
      "execution_count": 32,
      "outputs": [
        {
          "output_type": "execute_result",
          "data": {
            "text/html": [
              "<div>\n",
              "<style scoped>\n",
              "    .dataframe tbody tr th:only-of-type {\n",
              "        vertical-align: middle;\n",
              "    }\n",
              "\n",
              "    .dataframe tbody tr th {\n",
              "        vertical-align: top;\n",
              "    }\n",
              "\n",
              "    .dataframe thead th {\n",
              "        text-align: right;\n",
              "    }\n",
              "</style>\n",
              "<table border=\"1\" class=\"dataframe\">\n",
              "  <thead>\n",
              "    <tr style=\"text-align: right;\">\n",
              "      <th></th>\n",
              "      <th>Country</th>\n",
              "      <th>ConvertedComp</th>\n",
              "    </tr>\n",
              "    <tr>\n",
              "      <th>Respondent</th>\n",
              "      <th></th>\n",
              "      <th></th>\n",
              "    </tr>\n",
              "  </thead>\n",
              "  <tbody>\n",
              "    <tr>\n",
              "      <th>63129</th>\n",
              "      <td>Afghanistan</td>\n",
              "      <td>1000000.0</td>\n",
              "    </tr>\n",
              "    <tr>\n",
              "      <th>50499</th>\n",
              "      <td>Afghanistan</td>\n",
              "      <td>153216.0</td>\n",
              "    </tr>\n",
              "    <tr>\n",
              "      <th>39258</th>\n",
              "      <td>Afghanistan</td>\n",
              "      <td>19152.0</td>\n",
              "    </tr>\n",
              "    <tr>\n",
              "      <th>58450</th>\n",
              "      <td>Afghanistan</td>\n",
              "      <td>17556.0</td>\n",
              "    </tr>\n",
              "    <tr>\n",
              "      <th>7085</th>\n",
              "      <td>Afghanistan</td>\n",
              "      <td>14364.0</td>\n",
              "    </tr>\n",
              "    <tr>\n",
              "      <th>...</th>\n",
              "      <td>...</td>\n",
              "      <td>...</td>\n",
              "    </tr>\n",
              "    <tr>\n",
              "      <th>88062</th>\n",
              "      <td>NaN</td>\n",
              "      <td>NaN</td>\n",
              "    </tr>\n",
              "    <tr>\n",
              "      <th>88076</th>\n",
              "      <td>NaN</td>\n",
              "      <td>NaN</td>\n",
              "    </tr>\n",
              "    <tr>\n",
              "      <th>88601</th>\n",
              "      <td>NaN</td>\n",
              "      <td>NaN</td>\n",
              "    </tr>\n",
              "    <tr>\n",
              "      <th>88802</th>\n",
              "      <td>NaN</td>\n",
              "      <td>NaN</td>\n",
              "    </tr>\n",
              "    <tr>\n",
              "      <th>88816</th>\n",
              "      <td>NaN</td>\n",
              "      <td>NaN</td>\n",
              "    </tr>\n",
              "  </tbody>\n",
              "</table>\n",
              "<p>88883 rows × 2 columns</p>\n",
              "</div>"
            ],
            "text/plain": [
              "                Country  ConvertedComp\n",
              "Respondent                            \n",
              "63129       Afghanistan      1000000.0\n",
              "50499       Afghanistan       153216.0\n",
              "39258       Afghanistan        19152.0\n",
              "58450       Afghanistan        17556.0\n",
              "7085        Afghanistan        14364.0\n",
              "...                 ...            ...\n",
              "88062               NaN            NaN\n",
              "88076               NaN            NaN\n",
              "88601               NaN            NaN\n",
              "88802               NaN            NaN\n",
              "88816               NaN            NaN\n",
              "\n",
              "[88883 rows x 2 columns]"
            ]
          },
          "metadata": {
            "tags": []
          },
          "execution_count": 32
        }
      ]
    },
    {
      "cell_type": "markdown",
      "metadata": {
        "id": "ShEPrvpIRC1D",
        "colab_type": "text"
      },
      "source": [
        "<h3>3. Get the list of largest value in the Series</h3>"
      ]
    },
    {
      "cell_type": "code",
      "metadata": {
        "id": "jVs7vKhURM-8",
        "colab_type": "code",
        "colab": {
          "base_uri": "https://localhost:8080/",
          "height": 221
        },
        "outputId": "1b2e133d-17de-4a7e-8e96-e7a880e84a60"
      },
      "source": [
        "df[\"ConvertedComp\"].nlargest(10)"
      ],
      "execution_count": 33,
      "outputs": [
        {
          "output_type": "execute_result",
          "data": {
            "text/plain": [
              "Respondent\n",
              "58      2000000.0\n",
              "102     2000000.0\n",
              "166     2000000.0\n",
              "436     2000000.0\n",
              "452     2000000.0\n",
              "491     2000000.0\n",
              "539     2000000.0\n",
              "770     2000000.0\n",
              "789     2000000.0\n",
              "1232    2000000.0\n",
              "Name: ConvertedComp, dtype: float64"
            ]
          },
          "metadata": {
            "tags": []
          },
          "execution_count": 33
        }
      ]
    },
    {
      "cell_type": "markdown",
      "metadata": {
        "id": "YOo7Zo_qRWEU",
        "colab_type": "text"
      },
      "source": [
        "<h3>4. Get the list of smallest value in the Series</h3>"
      ]
    },
    {
      "cell_type": "code",
      "metadata": {
        "id": "CbEPUZbERZQ4",
        "colab_type": "code",
        "colab": {
          "base_uri": "https://localhost:8080/",
          "height": 221
        },
        "outputId": "14ea85d3-b85c-47a8-8a63-cc8eab5d5cda"
      },
      "source": [
        "df[\"ConvertedComp\"].nsmallest(10)"
      ],
      "execution_count": 34,
      "outputs": [
        {
          "output_type": "execute_result",
          "data": {
            "text/plain": [
              "Respondent\n",
              "280     0.0\n",
              "293     0.0\n",
              "722     0.0\n",
              "1105    0.0\n",
              "1501    0.0\n",
              "1685    0.0\n",
              "1782    0.0\n",
              "2019    0.0\n",
              "2095    0.0\n",
              "2665    0.0\n",
              "Name: ConvertedComp, dtype: float64"
            ]
          },
          "metadata": {
            "tags": []
          },
          "execution_count": 34
        }
      ]
    },
    {
      "cell_type": "markdown",
      "metadata": {
        "id": "YkVKbnXXAv_X",
        "colab_type": "text"
      },
      "source": [
        "**<h1>Data Filtering</h1>**"
      ]
    },
    {
      "cell_type": "markdown",
      "metadata": {
        "id": "_IY5Omx0BC18",
        "colab_type": "text"
      },
      "source": [
        "<h3>1. Filtering Salary with specific amount and indicate which columns you want to see</h3>"
      ]
    },
    {
      "cell_type": "code",
      "metadata": {
        "id": "MNkHVyfKDQJ5",
        "colab_type": "code",
        "colab": {
          "base_uri": "https://localhost:8080/",
          "height": 450
        },
        "outputId": "f694912e-1e35-42b7-c22d-75479dc999e9"
      },
      "source": [
        "filt = df[\"ConvertedComp\"] > 10000\n",
        "df.loc[filt,[\"Country\",\"EdLevel\",\"ConvertedComp\"]]"
      ],
      "execution_count": 6,
      "outputs": [
        {
          "output_type": "execute_result",
          "data": {
            "text/html": [
              "<div>\n",
              "<style scoped>\n",
              "    .dataframe tbody tr th:only-of-type {\n",
              "        vertical-align: middle;\n",
              "    }\n",
              "\n",
              "    .dataframe tbody tr th {\n",
              "        vertical-align: top;\n",
              "    }\n",
              "\n",
              "    .dataframe thead th {\n",
              "        text-align: right;\n",
              "    }\n",
              "</style>\n",
              "<table border=\"1\" class=\"dataframe\">\n",
              "  <thead>\n",
              "    <tr style=\"text-align: right;\">\n",
              "      <th></th>\n",
              "      <th>Country</th>\n",
              "      <th>EdLevel</th>\n",
              "      <th>ConvertedComp</th>\n",
              "    </tr>\n",
              "    <tr>\n",
              "      <th>Respondent</th>\n",
              "      <th></th>\n",
              "      <th></th>\n",
              "      <th></th>\n",
              "    </tr>\n",
              "  </thead>\n",
              "  <tbody>\n",
              "    <tr>\n",
              "      <th>4</th>\n",
              "      <td>United States</td>\n",
              "      <td>Bachelor’s degree (BA, BS, B.Eng., etc.)</td>\n",
              "      <td>61000.0</td>\n",
              "    </tr>\n",
              "    <tr>\n",
              "      <th>6</th>\n",
              "      <td>Canada</td>\n",
              "      <td>Bachelor’s degree (BA, BS, B.Eng., etc.)</td>\n",
              "      <td>366420.0</td>\n",
              "    </tr>\n",
              "    <tr>\n",
              "      <th>9</th>\n",
              "      <td>New Zealand</td>\n",
              "      <td>Some college/university study without earning ...</td>\n",
              "      <td>95179.0</td>\n",
              "    </tr>\n",
              "    <tr>\n",
              "      <th>10</th>\n",
              "      <td>India</td>\n",
              "      <td>Master’s degree (MA, MS, M.Eng., MBA, etc.)</td>\n",
              "      <td>13293.0</td>\n",
              "    </tr>\n",
              "    <tr>\n",
              "      <th>13</th>\n",
              "      <td>United States</td>\n",
              "      <td>Master’s degree (MA, MS, M.Eng., MBA, etc.)</td>\n",
              "      <td>90000.0</td>\n",
              "    </tr>\n",
              "    <tr>\n",
              "      <th>...</th>\n",
              "      <td>...</td>\n",
              "      <td>...</td>\n",
              "      <td>...</td>\n",
              "    </tr>\n",
              "    <tr>\n",
              "      <th>88878</th>\n",
              "      <td>United States</td>\n",
              "      <td>Bachelor’s degree (BA, BS, B.Eng., etc.)</td>\n",
              "      <td>130000.0</td>\n",
              "    </tr>\n",
              "    <tr>\n",
              "      <th>88879</th>\n",
              "      <td>Finland</td>\n",
              "      <td>Master’s degree (MA, MS, M.Eng., MBA, etc.)</td>\n",
              "      <td>82488.0</td>\n",
              "    </tr>\n",
              "    <tr>\n",
              "      <th>88881</th>\n",
              "      <td>Austria</td>\n",
              "      <td>Master’s degree (MA, MS, M.Eng., MBA, etc.)</td>\n",
              "      <td>68745.0</td>\n",
              "    </tr>\n",
              "    <tr>\n",
              "      <th>88882</th>\n",
              "      <td>Netherlands</td>\n",
              "      <td>Master’s degree (MA, MS, M.Eng., MBA, etc.)</td>\n",
              "      <td>588012.0</td>\n",
              "    </tr>\n",
              "    <tr>\n",
              "      <th>88883</th>\n",
              "      <td>Greece</td>\n",
              "      <td>Bachelor’s degree (BA, BS, B.Eng., etc.)</td>\n",
              "      <td>22915.0</td>\n",
              "    </tr>\n",
              "  </tbody>\n",
              "</table>\n",
              "<p>50029 rows × 3 columns</p>\n",
              "</div>"
            ],
            "text/plain": [
              "                  Country  ... ConvertedComp\n",
              "Respondent                 ...              \n",
              "4           United States  ...       61000.0\n",
              "6                  Canada  ...      366420.0\n",
              "9             New Zealand  ...       95179.0\n",
              "10                  India  ...       13293.0\n",
              "13          United States  ...       90000.0\n",
              "...                   ...  ...           ...\n",
              "88878       United States  ...      130000.0\n",
              "88879             Finland  ...       82488.0\n",
              "88881             Austria  ...       68745.0\n",
              "88882         Netherlands  ...      588012.0\n",
              "88883              Greece  ...       22915.0\n",
              "\n",
              "[50029 rows x 3 columns]"
            ]
          },
          "metadata": {
            "tags": []
          },
          "execution_count": 6
        }
      ]
    },
    {
      "cell_type": "markdown",
      "metadata": {
        "id": "JzfM_oPPDrha",
        "colab_type": "text"
      },
      "source": [
        "<h3>2. Display the values from columns if contains anything from the list</h3>"
      ]
    },
    {
      "cell_type": "code",
      "metadata": {
        "id": "hGC_bJTdD5du",
        "colab_type": "code",
        "colab": {}
      },
      "source": [
        "countries = [\"United States\",\"India\",\"New Zealand\",\"Malaysia\"]\n",
        "df.loc[df[\"Country\"].isin(countries),[\"Country\"]]"
      ],
      "execution_count": null,
      "outputs": []
    },
    {
      "cell_type": "markdown",
      "metadata": {
        "id": "bXMZOwePE1ch",
        "colab_type": "text"
      },
      "source": [
        "<h3>3. Search Values from the Series which contains List<h3>"
      ]
    },
    {
      "cell_type": "code",
      "metadata": {
        "id": "OwSkkmJUEy3K",
        "colab_type": "code",
        "colab": {}
      },
      "source": [
        "know_python = df[\"LanguageWorkedWith\"].str.contains(\"Python\",na=False) ## Put na as false because some of the row values are NaN\n",
        "df.loc[know_python]"
      ],
      "execution_count": null,
      "outputs": []
    },
    {
      "cell_type": "markdown",
      "metadata": {
        "id": "ZiXa4NenR1Hk",
        "colab_type": "text"
      },
      "source": [
        "<h3>4. Multiple Filter Criteria</h3>"
      ]
    },
    {
      "cell_type": "code",
      "metadata": {
        "id": "t4787anKR5eP",
        "colab_type": "code",
        "colab": {
          "base_uri": "https://localhost:8080/",
          "height": 450
        },
        "outputId": "1e7c1b4b-7564-44af-9ae4-83215379b761"
      },
      "source": [
        "multi_filt = (df[\"Country\"] == \"Malaysia\") & (df[\"ConvertedComp\"] > 1000)\n",
        "df.loc[multi_filt,[\"Country\",\"ConvertedComp\"]]"
      ],
      "execution_count": 41,
      "outputs": [
        {
          "output_type": "execute_result",
          "data": {
            "text/html": [
              "<div>\n",
              "<style scoped>\n",
              "    .dataframe tbody tr th:only-of-type {\n",
              "        vertical-align: middle;\n",
              "    }\n",
              "\n",
              "    .dataframe tbody tr th {\n",
              "        vertical-align: top;\n",
              "    }\n",
              "\n",
              "    .dataframe thead th {\n",
              "        text-align: right;\n",
              "    }\n",
              "</style>\n",
              "<table border=\"1\" class=\"dataframe\">\n",
              "  <thead>\n",
              "    <tr style=\"text-align: right;\">\n",
              "      <th></th>\n",
              "      <th>Country</th>\n",
              "      <th>ConvertedComp</th>\n",
              "    </tr>\n",
              "    <tr>\n",
              "      <th>Respondent</th>\n",
              "      <th></th>\n",
              "      <th></th>\n",
              "    </tr>\n",
              "  </thead>\n",
              "  <tbody>\n",
              "    <tr>\n",
              "      <th>769</th>\n",
              "      <td>Malaysia</td>\n",
              "      <td>16548.0</td>\n",
              "    </tr>\n",
              "    <tr>\n",
              "      <th>786</th>\n",
              "      <td>Malaysia</td>\n",
              "      <td>16116.0</td>\n",
              "    </tr>\n",
              "    <tr>\n",
              "      <th>2187</th>\n",
              "      <td>Malaysia</td>\n",
              "      <td>12300.0</td>\n",
              "    </tr>\n",
              "    <tr>\n",
              "      <th>2805</th>\n",
              "      <td>Malaysia</td>\n",
              "      <td>19044.0</td>\n",
              "    </tr>\n",
              "    <tr>\n",
              "      <th>3720</th>\n",
              "      <td>Malaysia</td>\n",
              "      <td>15379.0</td>\n",
              "    </tr>\n",
              "    <tr>\n",
              "      <th>...</th>\n",
              "      <td>...</td>\n",
              "      <td>...</td>\n",
              "    </tr>\n",
              "    <tr>\n",
              "      <th>82867</th>\n",
              "      <td>Malaysia</td>\n",
              "      <td>9672.0</td>\n",
              "    </tr>\n",
              "    <tr>\n",
              "      <th>83609</th>\n",
              "      <td>Malaysia</td>\n",
              "      <td>12300.0</td>\n",
              "    </tr>\n",
              "    <tr>\n",
              "      <th>83763</th>\n",
              "      <td>Malaysia</td>\n",
              "      <td>7908.0</td>\n",
              "    </tr>\n",
              "    <tr>\n",
              "      <th>84413</th>\n",
              "      <td>Malaysia</td>\n",
              "      <td>18468.0</td>\n",
              "    </tr>\n",
              "    <tr>\n",
              "      <th>88365</th>\n",
              "      <td>Malaysia</td>\n",
              "      <td>29293.0</td>\n",
              "    </tr>\n",
              "  </tbody>\n",
              "</table>\n",
              "<p>138 rows × 2 columns</p>\n",
              "</div>"
            ],
            "text/plain": [
              "             Country  ConvertedComp\n",
              "Respondent                         \n",
              "769         Malaysia        16548.0\n",
              "786         Malaysia        16116.0\n",
              "2187        Malaysia        12300.0\n",
              "2805        Malaysia        19044.0\n",
              "3720        Malaysia        15379.0\n",
              "...              ...            ...\n",
              "82867       Malaysia         9672.0\n",
              "83609       Malaysia        12300.0\n",
              "83763       Malaysia         7908.0\n",
              "84413       Malaysia        18468.0\n",
              "88365       Malaysia        29293.0\n",
              "\n",
              "[138 rows x 2 columns]"
            ]
          },
          "metadata": {
            "tags": []
          },
          "execution_count": 41
        }
      ]
    },
    {
      "cell_type": "markdown",
      "metadata": {
        "id": "GKNm86rsMQfQ",
        "colab_type": "text"
      },
      "source": [
        "**<h1>Data Cleaning</h1>**"
      ]
    },
    {
      "cell_type": "markdown",
      "metadata": {
        "id": "BjDFX1WwMc5Q",
        "colab_type": "text"
      },
      "source": [
        "<h3>Cleaning the data in column YearsCode and calculate the median<h3>"
      ]
    },
    {
      "cell_type": "code",
      "metadata": {
        "id": "qe-zs8Z2MPjq",
        "colab_type": "code",
        "colab": {
          "base_uri": "https://localhost:8080/",
          "height": 119
        },
        "outputId": "9daac824-0ca6-4ae1-9b80-0e0a674b002d"
      },
      "source": [
        "df[\"YearsCode\"].unique()"
      ],
      "execution_count": 19,
      "outputs": [
        {
          "output_type": "execute_result",
          "data": {
            "text/plain": [
              "array(['4', nan, '3', '16', '13', '6', '8', '12', '2', '5', '17', '10',\n",
              "       '14', '35', '7', 'Less than 1 year', '30', '9', '26', '40', '19',\n",
              "       '15', '20', '28', '25', '1', '22', '11', '33', '50', '41', '18',\n",
              "       '34', '24', '23', '42', '27', '21', '36', '32', '39', '38', '31',\n",
              "       '37', 'More than 50 years', '29', '44', '45', '48', '46', '43',\n",
              "       '47', '49'], dtype=object)"
            ]
          },
          "metadata": {
            "tags": []
          },
          "execution_count": 19
        }
      ]
    },
    {
      "cell_type": "code",
      "metadata": {
        "id": "gT-JYS8YMsSY",
        "colab_type": "code",
        "colab": {}
      },
      "source": [
        "df[\"YearsCode\"].replace(\"Less than 1 year\",0,inplace=True)\n",
        "df[\"YearsCode\"].replace(\"More than 50 years\",51,inplace=True)\n",
        "df[\"YearsCode\"] = df[\"YearsCode\"].astype(float) "
      ],
      "execution_count": 23,
      "outputs": []
    },
    {
      "cell_type": "code",
      "metadata": {
        "id": "ark27AmENJpm",
        "colab_type": "code",
        "colab": {
          "base_uri": "https://localhost:8080/",
          "height": 34
        },
        "outputId": "85c8e4a9-f59b-49a0-96f0-4838d9fe08fc"
      },
      "source": [
        "df[\"YearsCode\"].median()"
      ],
      "execution_count": 25,
      "outputs": [
        {
          "output_type": "execute_result",
          "data": {
            "text/plain": [
              "9.0"
            ]
          },
          "metadata": {
            "tags": []
          },
          "execution_count": 25
        }
      ]
    }
  ]
}