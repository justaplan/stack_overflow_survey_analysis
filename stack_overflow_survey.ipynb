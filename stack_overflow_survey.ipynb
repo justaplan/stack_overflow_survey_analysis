{
  "nbformat": 4,
  "nbformat_minor": 0,
  "metadata": {
    "colab": {
      "name": "stack_overflow_survey.ipynb",
      "provenance": [],
      "collapsed_sections": [],
      "authorship_tag": "ABX9TyOyhtOTObsmAVozaxVAl1bS",
      "include_colab_link": true
    },
    "kernelspec": {
      "name": "python3",
      "display_name": "Python 3"
    }
  },
  "cells": [
    {
      "cell_type": "markdown",
      "metadata": {
        "id": "view-in-github",
        "colab_type": "text"
      },
      "source": [
        "<a href=\"https://colab.research.google.com/github/justaplan/stack_overflow_survey_analysis/blob/master/stack_overflow_survey.ipynb\" target=\"_parent\"><img src=\"https://colab.research.google.com/assets/colab-badge.svg\" alt=\"Open In Colab\"/></a>"
      ]
    },
    {
      "cell_type": "code",
      "metadata": {
        "id": "u5Pw-pcj9qwj",
        "colab_type": "code",
        "colab": {
          "base_uri": "https://localhost:8080/",
          "height": 139
        },
        "outputId": "e8f6093d-eb0d-4936-cd5c-7fa34ad43b79"
      },
      "source": [
        "from google.colab import drive\n",
        "\n",
        "drive.mount(\"/content/gdrive\" , force_remount=True)\n",
        "\n",
        "%cd \"/content/gdrive/My Drive/Python/List of CSV\""
      ],
      "execution_count": 1,
      "outputs": [
        {
          "output_type": "stream",
          "text": [
            "Go to this URL in a browser: https://accounts.google.com/o/oauth2/auth?client_id=947318989803-6bn6qk8qdgf4n4g3pfee6491hc0brc4i.apps.googleusercontent.com&redirect_uri=urn%3aietf%3awg%3aoauth%3a2.0%3aoob&scope=email%20https%3a%2f%2fwww.googleapis.com%2fauth%2fdocs.test%20https%3a%2f%2fwww.googleapis.com%2fauth%2fdrive%20https%3a%2f%2fwww.googleapis.com%2fauth%2fdrive.photos.readonly%20https%3a%2f%2fwww.googleapis.com%2fauth%2fpeopleapi.readonly&response_type=code\n",
            "\n",
            "Enter your authorization code:\n",
            "··········\n",
            "Mounted at /content/gdrive\n",
            "/content/gdrive/My Drive/Python/List of CSV\n"
          ],
          "name": "stdout"
        }
      ]
    },
    {
      "cell_type": "code",
      "metadata": {
        "id": "0cb0ErCm-w9B",
        "colab_type": "code",
        "colab": {}
      },
      "source": [
        "import pandas as pd\n",
        "import matplotlib.pyplot as plt"
      ],
      "execution_count": 2,
      "outputs": []
    },
    {
      "cell_type": "code",
      "metadata": {
        "id": "0Cy9RrmPANYF",
        "colab_type": "code",
        "colab": {}
      },
      "source": [
        "df = pd.read_csv(\"survey_results_public.csv\", index_col=\"Respondent\")\n",
        "schema_df = pd.read_csv(\"survey_results_schema.csv\", index_col=\"Column\")"
      ],
      "execution_count": 3,
      "outputs": []
    },
    {
      "cell_type": "code",
      "metadata": {
        "id": "bp3bNIDVBbVr",
        "colab_type": "code",
        "colab": {
          "base_uri": "https://localhost:8080/",
          "height": 391
        },
        "outputId": "cc4fcb39-5c54-4ee1-f49c-22366fd8e0c5"
      },
      "source": [
        "schema_df.index.values"
      ],
      "execution_count": 4,
      "outputs": [
        {
          "output_type": "execute_result",
          "data": {
            "text/plain": [
              "array(['Respondent', 'MainBranch', 'Hobbyist', 'OpenSourcer',\n",
              "       'OpenSource', 'Employment', 'Country', 'Student', 'EdLevel',\n",
              "       'UndergradMajor', 'EduOther', 'OrgSize', 'DevType', 'YearsCode',\n",
              "       'Age1stCode', 'YearsCodePro', 'CareerSat', 'JobSat', 'MgrIdiot',\n",
              "       'MgrMoney', 'MgrWant', 'JobSeek', 'LastHireDate', 'LastInt',\n",
              "       'FizzBuzz', 'JobFactors', 'ResumeUpdate', 'CurrencySymbol',\n",
              "       'CurrencyDesc', 'CompTotal', 'CompFreq', 'ConvertedComp',\n",
              "       'WorkWeekHrs', 'WorkPlan', 'WorkChallenge', 'WorkRemote',\n",
              "       'WorkLoc', 'ImpSyn', 'CodeRev', 'CodeRevHrs', 'UnitTests',\n",
              "       'PurchaseHow', 'PurchaseWhat', 'LanguageWorkedWith',\n",
              "       'LanguageDesireNextYear', 'DatabaseWorkedWith',\n",
              "       'DatabaseDesireNextYear', 'PlatformWorkedWith',\n",
              "       'PlatformDesireNextYear', 'WebFrameWorkedWith',\n",
              "       'WebFrameDesireNextYear', 'MiscTechWorkedWith',\n",
              "       'MiscTechDesireNextYear', 'DevEnviron', 'OpSys', 'Containers',\n",
              "       'BlockchainOrg', 'BlockchainIs', 'BetterLife', 'ITperson', 'OffOn',\n",
              "       'SocialMedia', 'Extraversion', 'ScreenName', 'SOVisit1st',\n",
              "       'SOVisitFreq', 'SOVisitTo', 'SOFindAnswer', 'SOTimeSaved',\n",
              "       'SOHowMuchTime', 'SOAccount', 'SOPartFreq', 'SOJobs', 'EntTeams',\n",
              "       'SOComm', 'WelcomeChange', 'SONewContent', 'Age', 'Gender',\n",
              "       'Trans', 'Sexuality', 'Ethnicity', 'Dependents', 'SurveyLength',\n",
              "       'SurveyEase'], dtype=object)"
            ]
          },
          "metadata": {
            "tags": []
          },
          "execution_count": 4
        }
      ]
    },
    {
      "cell_type": "markdown",
      "metadata": {
        "id": "Lj9hL4sQPDq-",
        "colab_type": "text"
      },
      "source": [
        "**<h1>Data Sorting</h1>**"
      ]
    },
    {
      "cell_type": "markdown",
      "metadata": {
        "id": "s3ds-9XvPg0x",
        "colab_type": "text"
      },
      "source": [
        "<h3>1. Sort 1 column</h3>"
      ]
    },
    {
      "cell_type": "code",
      "metadata": {
        "id": "kFvwppoYPISk",
        "colab_type": "code",
        "colab": {
          "base_uri": "https://localhost:8080/",
          "height": 238
        },
        "outputId": "a61101a2-84a0-4380-e165-2dc36d359b44"
      },
      "source": [
        "country_sort_df = df.sort_values(by=\"Country\")\n",
        "country_sort_df[\"Country\"]"
      ],
      "execution_count": 28,
      "outputs": [
        {
          "output_type": "execute_result",
          "data": {
            "text/plain": [
              "Respondent\n",
              "39258    Afghanistan\n",
              "63129    Afghanistan\n",
              "85715    Afghanistan\n",
              "50767    Afghanistan\n",
              "2782     Afghanistan\n",
              "            ...     \n",
              "88062            NaN\n",
              "88076            NaN\n",
              "88601            NaN\n",
              "88802            NaN\n",
              "88816            NaN\n",
              "Name: Country, Length: 88883, dtype: object"
            ]
          },
          "metadata": {
            "tags": []
          },
          "execution_count": 28
        }
      ]
    },
    {
      "cell_type": "markdown",
      "metadata": {
        "id": "G8Wsuz9RQJNI",
        "colab_type": "text"
      },
      "source": [
        "<h3>2. Sort Multiple Columns with specific arrangment</h3>"
      ]
    },
    {
      "cell_type": "code",
      "metadata": {
        "id": "ytNR4hhWPmdy",
        "colab_type": "code",
        "colab": {
          "base_uri": "https://localhost:8080/",
          "height": 450
        },
        "outputId": "d88f09d6-7aa6-465a-8b95-3711de58900a"
      },
      "source": [
        "multiple_sort_df = df.sort_values(by=[\"Country\",\"ConvertedComp\"],ascending=[True,False])\n",
        "multiple_sort_df[[\"Country\",\"ConvertedComp\"]]"
      ],
      "execution_count": 32,
      "outputs": [
        {
          "output_type": "execute_result",
          "data": {
            "text/html": [
              "<div>\n",
              "<style scoped>\n",
              "    .dataframe tbody tr th:only-of-type {\n",
              "        vertical-align: middle;\n",
              "    }\n",
              "\n",
              "    .dataframe tbody tr th {\n",
              "        vertical-align: top;\n",
              "    }\n",
              "\n",
              "    .dataframe thead th {\n",
              "        text-align: right;\n",
              "    }\n",
              "</style>\n",
              "<table border=\"1\" class=\"dataframe\">\n",
              "  <thead>\n",
              "    <tr style=\"text-align: right;\">\n",
              "      <th></th>\n",
              "      <th>Country</th>\n",
              "      <th>ConvertedComp</th>\n",
              "    </tr>\n",
              "    <tr>\n",
              "      <th>Respondent</th>\n",
              "      <th></th>\n",
              "      <th></th>\n",
              "    </tr>\n",
              "  </thead>\n",
              "  <tbody>\n",
              "    <tr>\n",
              "      <th>63129</th>\n",
              "      <td>Afghanistan</td>\n",
              "      <td>1000000.0</td>\n",
              "    </tr>\n",
              "    <tr>\n",
              "      <th>50499</th>\n",
              "      <td>Afghanistan</td>\n",
              "      <td>153216.0</td>\n",
              "    </tr>\n",
              "    <tr>\n",
              "      <th>39258</th>\n",
              "      <td>Afghanistan</td>\n",
              "      <td>19152.0</td>\n",
              "    </tr>\n",
              "    <tr>\n",
              "      <th>58450</th>\n",
              "      <td>Afghanistan</td>\n",
              "      <td>17556.0</td>\n",
              "    </tr>\n",
              "    <tr>\n",
              "      <th>7085</th>\n",
              "      <td>Afghanistan</td>\n",
              "      <td>14364.0</td>\n",
              "    </tr>\n",
              "    <tr>\n",
              "      <th>...</th>\n",
              "      <td>...</td>\n",
              "      <td>...</td>\n",
              "    </tr>\n",
              "    <tr>\n",
              "      <th>88062</th>\n",
              "      <td>NaN</td>\n",
              "      <td>NaN</td>\n",
              "    </tr>\n",
              "    <tr>\n",
              "      <th>88076</th>\n",
              "      <td>NaN</td>\n",
              "      <td>NaN</td>\n",
              "    </tr>\n",
              "    <tr>\n",
              "      <th>88601</th>\n",
              "      <td>NaN</td>\n",
              "      <td>NaN</td>\n",
              "    </tr>\n",
              "    <tr>\n",
              "      <th>88802</th>\n",
              "      <td>NaN</td>\n",
              "      <td>NaN</td>\n",
              "    </tr>\n",
              "    <tr>\n",
              "      <th>88816</th>\n",
              "      <td>NaN</td>\n",
              "      <td>NaN</td>\n",
              "    </tr>\n",
              "  </tbody>\n",
              "</table>\n",
              "<p>88883 rows × 2 columns</p>\n",
              "</div>"
            ],
            "text/plain": [
              "                Country  ConvertedComp\n",
              "Respondent                            \n",
              "63129       Afghanistan      1000000.0\n",
              "50499       Afghanistan       153216.0\n",
              "39258       Afghanistan        19152.0\n",
              "58450       Afghanistan        17556.0\n",
              "7085        Afghanistan        14364.0\n",
              "...                 ...            ...\n",
              "88062               NaN            NaN\n",
              "88076               NaN            NaN\n",
              "88601               NaN            NaN\n",
              "88802               NaN            NaN\n",
              "88816               NaN            NaN\n",
              "\n",
              "[88883 rows x 2 columns]"
            ]
          },
          "metadata": {
            "tags": []
          },
          "execution_count": 32
        }
      ]
    },
    {
      "cell_type": "markdown",
      "metadata": {
        "id": "ShEPrvpIRC1D",
        "colab_type": "text"
      },
      "source": [
        "<h3>3. Get the list of largest value in the Series</h3>"
      ]
    },
    {
      "cell_type": "code",
      "metadata": {
        "id": "jVs7vKhURM-8",
        "colab_type": "code",
        "colab": {
          "base_uri": "https://localhost:8080/",
          "height": 221
        },
        "outputId": "1b2e133d-17de-4a7e-8e96-e7a880e84a60"
      },
      "source": [
        "df[\"ConvertedComp\"].nlargest(10)"
      ],
      "execution_count": 33,
      "outputs": [
        {
          "output_type": "execute_result",
          "data": {
            "text/plain": [
              "Respondent\n",
              "58      2000000.0\n",
              "102     2000000.0\n",
              "166     2000000.0\n",
              "436     2000000.0\n",
              "452     2000000.0\n",
              "491     2000000.0\n",
              "539     2000000.0\n",
              "770     2000000.0\n",
              "789     2000000.0\n",
              "1232    2000000.0\n",
              "Name: ConvertedComp, dtype: float64"
            ]
          },
          "metadata": {
            "tags": []
          },
          "execution_count": 33
        }
      ]
    },
    {
      "cell_type": "markdown",
      "metadata": {
        "id": "YOo7Zo_qRWEU",
        "colab_type": "text"
      },
      "source": [
        "<h3>4. Get the list of smallest value in the Series</h3>"
      ]
    },
    {
      "cell_type": "code",
      "metadata": {
        "id": "CbEPUZbERZQ4",
        "colab_type": "code",
        "colab": {
          "base_uri": "https://localhost:8080/",
          "height": 221
        },
        "outputId": "14ea85d3-b85c-47a8-8a63-cc8eab5d5cda"
      },
      "source": [
        "df[\"ConvertedComp\"].nsmallest(10)"
      ],
      "execution_count": 34,
      "outputs": [
        {
          "output_type": "execute_result",
          "data": {
            "text/plain": [
              "Respondent\n",
              "280     0.0\n",
              "293     0.0\n",
              "722     0.0\n",
              "1105    0.0\n",
              "1501    0.0\n",
              "1685    0.0\n",
              "1782    0.0\n",
              "2019    0.0\n",
              "2095    0.0\n",
              "2665    0.0\n",
              "Name: ConvertedComp, dtype: float64"
            ]
          },
          "metadata": {
            "tags": []
          },
          "execution_count": 34
        }
      ]
    },
    {
      "cell_type": "markdown",
      "metadata": {
        "id": "YkVKbnXXAv_X",
        "colab_type": "text"
      },
      "source": [
        "**<h1>Data Filtering</h1>**"
      ]
    },
    {
      "cell_type": "markdown",
      "metadata": {
        "id": "_IY5Omx0BC18",
        "colab_type": "text"
      },
      "source": [
        "<h3>1. Filtering Salary with specific amount and indicate which columns you want to see</h3>"
      ]
    },
    {
      "cell_type": "code",
      "metadata": {
        "id": "MNkHVyfKDQJ5",
        "colab_type": "code",
        "colab": {
          "base_uri": "https://localhost:8080/",
          "height": 450
        },
        "outputId": "f694912e-1e35-42b7-c22d-75479dc999e9"
      },
      "source": [
        "filt = df[\"ConvertedComp\"] > 10000\n",
        "df.loc[filt,[\"Country\",\"EdLevel\",\"ConvertedComp\"]]"
      ],
      "execution_count": 6,
      "outputs": [
        {
          "output_type": "execute_result",
          "data": {
            "text/html": [
              "<div>\n",
              "<style scoped>\n",
              "    .dataframe tbody tr th:only-of-type {\n",
              "        vertical-align: middle;\n",
              "    }\n",
              "\n",
              "    .dataframe tbody tr th {\n",
              "        vertical-align: top;\n",
              "    }\n",
              "\n",
              "    .dataframe thead th {\n",
              "        text-align: right;\n",
              "    }\n",
              "</style>\n",
              "<table border=\"1\" class=\"dataframe\">\n",
              "  <thead>\n",
              "    <tr style=\"text-align: right;\">\n",
              "      <th></th>\n",
              "      <th>Country</th>\n",
              "      <th>EdLevel</th>\n",
              "      <th>ConvertedComp</th>\n",
              "    </tr>\n",
              "    <tr>\n",
              "      <th>Respondent</th>\n",
              "      <th></th>\n",
              "      <th></th>\n",
              "      <th></th>\n",
              "    </tr>\n",
              "  </thead>\n",
              "  <tbody>\n",
              "    <tr>\n",
              "      <th>4</th>\n",
              "      <td>United States</td>\n",
              "      <td>Bachelor’s degree (BA, BS, B.Eng., etc.)</td>\n",
              "      <td>61000.0</td>\n",
              "    </tr>\n",
              "    <tr>\n",
              "      <th>6</th>\n",
              "      <td>Canada</td>\n",
              "      <td>Bachelor’s degree (BA, BS, B.Eng., etc.)</td>\n",
              "      <td>366420.0</td>\n",
              "    </tr>\n",
              "    <tr>\n",
              "      <th>9</th>\n",
              "      <td>New Zealand</td>\n",
              "      <td>Some college/university study without earning ...</td>\n",
              "      <td>95179.0</td>\n",
              "    </tr>\n",
              "    <tr>\n",
              "      <th>10</th>\n",
              "      <td>India</td>\n",
              "      <td>Master’s degree (MA, MS, M.Eng., MBA, etc.)</td>\n",
              "      <td>13293.0</td>\n",
              "    </tr>\n",
              "    <tr>\n",
              "      <th>13</th>\n",
              "      <td>United States</td>\n",
              "      <td>Master’s degree (MA, MS, M.Eng., MBA, etc.)</td>\n",
              "      <td>90000.0</td>\n",
              "    </tr>\n",
              "    <tr>\n",
              "      <th>...</th>\n",
              "      <td>...</td>\n",
              "      <td>...</td>\n",
              "      <td>...</td>\n",
              "    </tr>\n",
              "    <tr>\n",
              "      <th>88878</th>\n",
              "      <td>United States</td>\n",
              "      <td>Bachelor’s degree (BA, BS, B.Eng., etc.)</td>\n",
              "      <td>130000.0</td>\n",
              "    </tr>\n",
              "    <tr>\n",
              "      <th>88879</th>\n",
              "      <td>Finland</td>\n",
              "      <td>Master’s degree (MA, MS, M.Eng., MBA, etc.)</td>\n",
              "      <td>82488.0</td>\n",
              "    </tr>\n",
              "    <tr>\n",
              "      <th>88881</th>\n",
              "      <td>Austria</td>\n",
              "      <td>Master’s degree (MA, MS, M.Eng., MBA, etc.)</td>\n",
              "      <td>68745.0</td>\n",
              "    </tr>\n",
              "    <tr>\n",
              "      <th>88882</th>\n",
              "      <td>Netherlands</td>\n",
              "      <td>Master’s degree (MA, MS, M.Eng., MBA, etc.)</td>\n",
              "      <td>588012.0</td>\n",
              "    </tr>\n",
              "    <tr>\n",
              "      <th>88883</th>\n",
              "      <td>Greece</td>\n",
              "      <td>Bachelor’s degree (BA, BS, B.Eng., etc.)</td>\n",
              "      <td>22915.0</td>\n",
              "    </tr>\n",
              "  </tbody>\n",
              "</table>\n",
              "<p>50029 rows × 3 columns</p>\n",
              "</div>"
            ],
            "text/plain": [
              "                  Country  ... ConvertedComp\n",
              "Respondent                 ...              \n",
              "4           United States  ...       61000.0\n",
              "6                  Canada  ...      366420.0\n",
              "9             New Zealand  ...       95179.0\n",
              "10                  India  ...       13293.0\n",
              "13          United States  ...       90000.0\n",
              "...                   ...  ...           ...\n",
              "88878       United States  ...      130000.0\n",
              "88879             Finland  ...       82488.0\n",
              "88881             Austria  ...       68745.0\n",
              "88882         Netherlands  ...      588012.0\n",
              "88883              Greece  ...       22915.0\n",
              "\n",
              "[50029 rows x 3 columns]"
            ]
          },
          "metadata": {
            "tags": []
          },
          "execution_count": 6
        }
      ]
    },
    {
      "cell_type": "markdown",
      "metadata": {
        "id": "JzfM_oPPDrha",
        "colab_type": "text"
      },
      "source": [
        "<h3>2. Display the values from columns if contains anything from the list</h3>"
      ]
    },
    {
      "cell_type": "code",
      "metadata": {
        "id": "hGC_bJTdD5du",
        "colab_type": "code",
        "colab": {}
      },
      "source": [
        "countries = [\"United States\",\"India\",\"New Zealand\",\"Malaysia\"]\n",
        "df.loc[df[\"Country\"].isin(countries),[\"Country\"]]"
      ],
      "execution_count": null,
      "outputs": []
    },
    {
      "cell_type": "markdown",
      "metadata": {
        "id": "bXMZOwePE1ch",
        "colab_type": "text"
      },
      "source": [
        "<h3>3. Search Values from the Series which contains List<h3>"
      ]
    },
    {
      "cell_type": "code",
      "metadata": {
        "id": "OwSkkmJUEy3K",
        "colab_type": "code",
        "colab": {}
      },
      "source": [
        "know_python = df[\"LanguageWorkedWith\"].str.contains(\"Python\",na=False) ## Put na as false because some of the row values are NaN\n",
        "df.loc[know_python]"
      ],
      "execution_count": null,
      "outputs": []
    },
    {
      "cell_type": "markdown",
      "metadata": {
        "id": "ZiXa4NenR1Hk",
        "colab_type": "text"
      },
      "source": [
        "<h3>4. Multiple Filter Criteria</h3>"
      ]
    },
    {
      "cell_type": "code",
      "metadata": {
        "id": "t4787anKR5eP",
        "colab_type": "code",
        "colab": {
          "base_uri": "https://localhost:8080/",
          "height": 450
        },
        "outputId": "1e7c1b4b-7564-44af-9ae4-83215379b761"
      },
      "source": [
        "multi_filt = (df[\"Country\"] == \"Malaysia\") & (df[\"ConvertedComp\"] > 1000)\n",
        "df.loc[multi_filt,[\"Country\",\"ConvertedComp\"]]"
      ],
      "execution_count": 41,
      "outputs": [
        {
          "output_type": "execute_result",
          "data": {
            "text/html": [
              "<div>\n",
              "<style scoped>\n",
              "    .dataframe tbody tr th:only-of-type {\n",
              "        vertical-align: middle;\n",
              "    }\n",
              "\n",
              "    .dataframe tbody tr th {\n",
              "        vertical-align: top;\n",
              "    }\n",
              "\n",
              "    .dataframe thead th {\n",
              "        text-align: right;\n",
              "    }\n",
              "</style>\n",
              "<table border=\"1\" class=\"dataframe\">\n",
              "  <thead>\n",
              "    <tr style=\"text-align: right;\">\n",
              "      <th></th>\n",
              "      <th>Country</th>\n",
              "      <th>ConvertedComp</th>\n",
              "    </tr>\n",
              "    <tr>\n",
              "      <th>Respondent</th>\n",
              "      <th></th>\n",
              "      <th></th>\n",
              "    </tr>\n",
              "  </thead>\n",
              "  <tbody>\n",
              "    <tr>\n",
              "      <th>769</th>\n",
              "      <td>Malaysia</td>\n",
              "      <td>16548.0</td>\n",
              "    </tr>\n",
              "    <tr>\n",
              "      <th>786</th>\n",
              "      <td>Malaysia</td>\n",
              "      <td>16116.0</td>\n",
              "    </tr>\n",
              "    <tr>\n",
              "      <th>2187</th>\n",
              "      <td>Malaysia</td>\n",
              "      <td>12300.0</td>\n",
              "    </tr>\n",
              "    <tr>\n",
              "      <th>2805</th>\n",
              "      <td>Malaysia</td>\n",
              "      <td>19044.0</td>\n",
              "    </tr>\n",
              "    <tr>\n",
              "      <th>3720</th>\n",
              "      <td>Malaysia</td>\n",
              "      <td>15379.0</td>\n",
              "    </tr>\n",
              "    <tr>\n",
              "      <th>...</th>\n",
              "      <td>...</td>\n",
              "      <td>...</td>\n",
              "    </tr>\n",
              "    <tr>\n",
              "      <th>82867</th>\n",
              "      <td>Malaysia</td>\n",
              "      <td>9672.0</td>\n",
              "    </tr>\n",
              "    <tr>\n",
              "      <th>83609</th>\n",
              "      <td>Malaysia</td>\n",
              "      <td>12300.0</td>\n",
              "    </tr>\n",
              "    <tr>\n",
              "      <th>83763</th>\n",
              "      <td>Malaysia</td>\n",
              "      <td>7908.0</td>\n",
              "    </tr>\n",
              "    <tr>\n",
              "      <th>84413</th>\n",
              "      <td>Malaysia</td>\n",
              "      <td>18468.0</td>\n",
              "    </tr>\n",
              "    <tr>\n",
              "      <th>88365</th>\n",
              "      <td>Malaysia</td>\n",
              "      <td>29293.0</td>\n",
              "    </tr>\n",
              "  </tbody>\n",
              "</table>\n",
              "<p>138 rows × 2 columns</p>\n",
              "</div>"
            ],
            "text/plain": [
              "             Country  ConvertedComp\n",
              "Respondent                         \n",
              "769         Malaysia        16548.0\n",
              "786         Malaysia        16116.0\n",
              "2187        Malaysia        12300.0\n",
              "2805        Malaysia        19044.0\n",
              "3720        Malaysia        15379.0\n",
              "...              ...            ...\n",
              "82867       Malaysia         9672.0\n",
              "83609       Malaysia        12300.0\n",
              "83763       Malaysia         7908.0\n",
              "84413       Malaysia        18468.0\n",
              "88365       Malaysia        29293.0\n",
              "\n",
              "[138 rows x 2 columns]"
            ]
          },
          "metadata": {
            "tags": []
          },
          "execution_count": 41
        }
      ]
    },
    {
      "cell_type": "markdown",
      "metadata": {
        "id": "GKNm86rsMQfQ",
        "colab_type": "text"
      },
      "source": [
        "**<h1>Data Cleaning</h1>**"
      ]
    },
    {
      "cell_type": "markdown",
      "metadata": {
        "id": "BjDFX1WwMc5Q",
        "colab_type": "text"
      },
      "source": [
        "<h3>Cleaning the data in column YearsCode and calculate the median<h3>"
      ]
    },
    {
      "cell_type": "code",
      "metadata": {
        "id": "qe-zs8Z2MPjq",
        "colab_type": "code",
        "colab": {
          "base_uri": "https://localhost:8080/",
          "height": 119
        },
        "outputId": "9daac824-0ca6-4ae1-9b80-0e0a674b002d"
      },
      "source": [
        "df[\"YearsCode\"].unique()"
      ],
      "execution_count": 19,
      "outputs": [
        {
          "output_type": "execute_result",
          "data": {
            "text/plain": [
              "array(['4', nan, '3', '16', '13', '6', '8', '12', '2', '5', '17', '10',\n",
              "       '14', '35', '7', 'Less than 1 year', '30', '9', '26', '40', '19',\n",
              "       '15', '20', '28', '25', '1', '22', '11', '33', '50', '41', '18',\n",
              "       '34', '24', '23', '42', '27', '21', '36', '32', '39', '38', '31',\n",
              "       '37', 'More than 50 years', '29', '44', '45', '48', '46', '43',\n",
              "       '47', '49'], dtype=object)"
            ]
          },
          "metadata": {
            "tags": []
          },
          "execution_count": 19
        }
      ]
    },
    {
      "cell_type": "code",
      "metadata": {
        "id": "gT-JYS8YMsSY",
        "colab_type": "code",
        "colab": {}
      },
      "source": [
        "df[\"YearsCode\"].replace(\"Less than 1 year\",0,inplace=True)\n",
        "df[\"YearsCode\"].replace(\"More than 50 years\",51,inplace=True)\n",
        "df[\"YearsCode\"] = df[\"YearsCode\"].astype(float) "
      ],
      "execution_count": 23,
      "outputs": []
    },
    {
      "cell_type": "code",
      "metadata": {
        "id": "ark27AmENJpm",
        "colab_type": "code",
        "colab": {
          "base_uri": "https://localhost:8080/",
          "height": 34
        },
        "outputId": "85c8e4a9-f59b-49a0-96f0-4838d9fe08fc"
      },
      "source": [
        "df[\"YearsCode\"].median()"
      ],
      "execution_count": 25,
      "outputs": [
        {
          "output_type": "execute_result",
          "data": {
            "text/plain": [
              "9.0"
            ]
          },
          "metadata": {
            "tags": []
          },
          "execution_count": 25
        }
      ]
    },
    {
      "cell_type": "markdown",
      "metadata": {
        "id": "ST_DyvkY_FWS",
        "colab_type": "text"
      },
      "source": [
        "**<h1>Aggregation Function</h1>**"
      ]
    },
    {
      "cell_type": "code",
      "metadata": {
        "id": "RQy4ZLtr-_j1",
        "colab_type": "code",
        "colab": {
          "base_uri": "https://localhost:8080/",
          "height": 297
        },
        "outputId": "d7dc8a57-849d-42b4-dc99-1b27aa447df0"
      },
      "source": [
        "# df.describe() All aggreagete from DataFrame\n",
        "df[\"ConvertedComp\"].describe() "
      ],
      "execution_count": 4,
      "outputs": [
        {
          "output_type": "execute_result",
          "data": {
            "text/html": [
              "<div>\n",
              "<style scoped>\n",
              "    .dataframe tbody tr th:only-of-type {\n",
              "        vertical-align: middle;\n",
              "    }\n",
              "\n",
              "    .dataframe tbody tr th {\n",
              "        vertical-align: top;\n",
              "    }\n",
              "\n",
              "    .dataframe thead th {\n",
              "        text-align: right;\n",
              "    }\n",
              "</style>\n",
              "<table border=\"1\" class=\"dataframe\">\n",
              "  <thead>\n",
              "    <tr style=\"text-align: right;\">\n",
              "      <th></th>\n",
              "      <th>CompTotal</th>\n",
              "      <th>ConvertedComp</th>\n",
              "      <th>WorkWeekHrs</th>\n",
              "      <th>CodeRevHrs</th>\n",
              "      <th>Age</th>\n",
              "    </tr>\n",
              "  </thead>\n",
              "  <tbody>\n",
              "    <tr>\n",
              "      <th>count</th>\n",
              "      <td>5.594500e+04</td>\n",
              "      <td>5.582300e+04</td>\n",
              "      <td>64503.000000</td>\n",
              "      <td>49790.000000</td>\n",
              "      <td>79210.000000</td>\n",
              "    </tr>\n",
              "    <tr>\n",
              "      <th>mean</th>\n",
              "      <td>5.519014e+11</td>\n",
              "      <td>1.271107e+05</td>\n",
              "      <td>42.127197</td>\n",
              "      <td>5.084308</td>\n",
              "      <td>30.336699</td>\n",
              "    </tr>\n",
              "    <tr>\n",
              "      <th>std</th>\n",
              "      <td>7.331926e+13</td>\n",
              "      <td>2.841523e+05</td>\n",
              "      <td>37.287610</td>\n",
              "      <td>5.513931</td>\n",
              "      <td>9.178390</td>\n",
              "    </tr>\n",
              "    <tr>\n",
              "      <th>min</th>\n",
              "      <td>0.000000e+00</td>\n",
              "      <td>0.000000e+00</td>\n",
              "      <td>1.000000</td>\n",
              "      <td>0.000000</td>\n",
              "      <td>1.000000</td>\n",
              "    </tr>\n",
              "    <tr>\n",
              "      <th>25%</th>\n",
              "      <td>2.000000e+04</td>\n",
              "      <td>2.577750e+04</td>\n",
              "      <td>40.000000</td>\n",
              "      <td>2.000000</td>\n",
              "      <td>24.000000</td>\n",
              "    </tr>\n",
              "    <tr>\n",
              "      <th>50%</th>\n",
              "      <td>6.200000e+04</td>\n",
              "      <td>5.728700e+04</td>\n",
              "      <td>40.000000</td>\n",
              "      <td>4.000000</td>\n",
              "      <td>29.000000</td>\n",
              "    </tr>\n",
              "    <tr>\n",
              "      <th>75%</th>\n",
              "      <td>1.200000e+05</td>\n",
              "      <td>1.000000e+05</td>\n",
              "      <td>44.750000</td>\n",
              "      <td>6.000000</td>\n",
              "      <td>35.000000</td>\n",
              "    </tr>\n",
              "    <tr>\n",
              "      <th>max</th>\n",
              "      <td>1.000000e+16</td>\n",
              "      <td>2.000000e+06</td>\n",
              "      <td>4850.000000</td>\n",
              "      <td>99.000000</td>\n",
              "      <td>99.000000</td>\n",
              "    </tr>\n",
              "  </tbody>\n",
              "</table>\n",
              "</div>"
            ],
            "text/plain": [
              "          CompTotal  ConvertedComp   WorkWeekHrs    CodeRevHrs           Age\n",
              "count  5.594500e+04   5.582300e+04  64503.000000  49790.000000  79210.000000\n",
              "mean   5.519014e+11   1.271107e+05     42.127197      5.084308     30.336699\n",
              "std    7.331926e+13   2.841523e+05     37.287610      5.513931      9.178390\n",
              "min    0.000000e+00   0.000000e+00      1.000000      0.000000      1.000000\n",
              "25%    2.000000e+04   2.577750e+04     40.000000      2.000000     24.000000\n",
              "50%    6.200000e+04   5.728700e+04     40.000000      4.000000     29.000000\n",
              "75%    1.200000e+05   1.000000e+05     44.750000      6.000000     35.000000\n",
              "max    1.000000e+16   2.000000e+06   4850.000000     99.000000     99.000000"
            ]
          },
          "metadata": {
            "tags": []
          },
          "execution_count": 4
        }
      ]
    },
    {
      "cell_type": "markdown",
      "metadata": {
        "id": "-u-p3Pah_jTn",
        "colab_type": "text"
      },
      "source": [
        "**<h1>Grouping</h1>**"
      ]
    },
    {
      "cell_type": "markdown",
      "metadata": {
        "id": "NlQD_mIEBmJT",
        "colab_type": "text"
      },
      "source": [
        "<h3>1. Grouping and Aggregate</h3>"
      ]
    },
    {
      "cell_type": "code",
      "metadata": {
        "id": "rJyi7NyE_QkJ",
        "colab_type": "code",
        "colab": {
          "base_uri": "https://localhost:8080/",
          "height": 34
        },
        "outputId": "b6b2aa64-9230-4154-dff3-3cce89ebac3b"
      },
      "source": [
        "# Group by specific columns\n",
        "country_grp = df.groupby(\"Country\")\n",
        "\n",
        "# Advance Functions - Can use aggregate function for specific columns and row\n",
        "country_describe =  country_grp[\"ConvertedComp\"].describe().loc[\"Albania\"]\n",
        "albania_mean = country_grp[\"ConvertedComp\"].mean().loc[\"Albania\"]\n",
        "\n",
        "albania_mean"
      ],
      "execution_count": 19,
      "outputs": [
        {
          "output_type": "execute_result",
          "data": {
            "text/plain": [
              "21833.7"
            ]
          },
          "metadata": {
            "tags": []
          },
          "execution_count": 19
        }
      ]
    },
    {
      "cell_type": "markdown",
      "metadata": {
        "id": "ERObW9R7BvYX",
        "colab_type": "text"
      },
      "source": [
        "<h3>2. Grouping and Multiple Aggregate Function (No Describe)</h3>"
      ]
    },
    {
      "cell_type": "code",
      "metadata": {
        "id": "_bAyYkcVBsE2",
        "colab_type": "code",
        "colab": {
          "base_uri": "https://localhost:8080/",
          "height": 102
        },
        "outputId": "fdcd4c61-4553-4c35-e4fd-56446c78a968"
      },
      "source": [
        "country_grp = df.groupby(\"Country\")\n",
        "\n",
        "country_grp[\"ConvertedComp\"].agg([\"median\",\"mean\",\"min\",\"max\"]).loc[\"Canada\"]"
      ],
      "execution_count": 21,
      "outputs": [
        {
          "output_type": "execute_result",
          "data": {
            "text/plain": [
              "median    6.870500e+04\n",
              "mean      1.340186e+05\n",
              "min       0.000000e+00\n",
              "max       2.000000e+06\n",
              "Name: Canada, dtype: float64"
            ]
          },
          "metadata": {
            "tags": []
          },
          "execution_count": 21
        }
      ]
    },
    {
      "cell_type": "markdown",
      "metadata": {
        "id": "EAHiELYXCwn-",
        "colab_type": "text"
      },
      "source": [
        "<h3>3. Exercise: To calculate actual percentage people know python based on country</h3>"
      ]
    },
    {
      "cell_type": "code",
      "metadata": {
        "id": "xT-xmP2uCwHW",
        "colab_type": "code",
        "colab": {}
      },
      "source": [
        "# Create the necessary series\n",
        "country_respondents = df[\"Country\"].value_counts()\n",
        "country_know_python = df.groupby(\"Country\")[\"LanguageWorkedWith\"].apply(lambda x: x.str.contains(\"Python\").sum())"
      ],
      "execution_count": 30,
      "outputs": []
    },
    {
      "cell_type": "code",
      "metadata": {
        "id": "11PXMV_AErx2",
        "colab_type": "code",
        "colab": {
          "base_uri": "https://localhost:8080/",
          "height": 204
        },
        "outputId": "3d80e403-8cb2-4de7-b036-49c01d39e1cf"
      },
      "source": [
        "# Combine Series to new DataFrame\n",
        "python_df = pd.concat([country_respondents,country_know_python], axis=\"columns\",sort=True)\n",
        "python_df.head()"
      ],
      "execution_count": 44,
      "outputs": [
        {
          "output_type": "execute_result",
          "data": {
            "text/html": [
              "<div>\n",
              "<style scoped>\n",
              "    .dataframe tbody tr th:only-of-type {\n",
              "        vertical-align: middle;\n",
              "    }\n",
              "\n",
              "    .dataframe tbody tr th {\n",
              "        vertical-align: top;\n",
              "    }\n",
              "\n",
              "    .dataframe thead th {\n",
              "        text-align: right;\n",
              "    }\n",
              "</style>\n",
              "<table border=\"1\" class=\"dataframe\">\n",
              "  <thead>\n",
              "    <tr style=\"text-align: right;\">\n",
              "      <th></th>\n",
              "      <th>Country</th>\n",
              "      <th>LanguageWorkedWith</th>\n",
              "    </tr>\n",
              "  </thead>\n",
              "  <tbody>\n",
              "    <tr>\n",
              "      <th>Afghanistan</th>\n",
              "      <td>44</td>\n",
              "      <td>8</td>\n",
              "    </tr>\n",
              "    <tr>\n",
              "      <th>Albania</th>\n",
              "      <td>86</td>\n",
              "      <td>23</td>\n",
              "    </tr>\n",
              "    <tr>\n",
              "      <th>Algeria</th>\n",
              "      <td>134</td>\n",
              "      <td>40</td>\n",
              "    </tr>\n",
              "    <tr>\n",
              "      <th>Andorra</th>\n",
              "      <td>7</td>\n",
              "      <td>0</td>\n",
              "    </tr>\n",
              "    <tr>\n",
              "      <th>Angola</th>\n",
              "      <td>5</td>\n",
              "      <td>2</td>\n",
              "    </tr>\n",
              "  </tbody>\n",
              "</table>\n",
              "</div>"
            ],
            "text/plain": [
              "             Country  LanguageWorkedWith\n",
              "Afghanistan       44                   8\n",
              "Albania           86                  23\n",
              "Algeria          134                  40\n",
              "Andorra            7                   0\n",
              "Angola             5                   2"
            ]
          },
          "metadata": {
            "tags": []
          },
          "execution_count": 44
        }
      ]
    },
    {
      "cell_type": "code",
      "metadata": {
        "id": "S0Nhsmd3E6On",
        "colab_type": "code",
        "colab": {}
      },
      "source": [
        "# Raname the column\n",
        "python_df.rename(columns={\"Country\": \"NumOfRespondents\",\"LanguageWorkedWith\": \"NumsknewPython\"},inplace=True)"
      ],
      "execution_count": 45,
      "outputs": []
    },
    {
      "cell_type": "code",
      "metadata": {
        "id": "i0WVSYi8Frec",
        "colab_type": "code",
        "colab": {
          "base_uri": "https://localhost:8080/",
          "height": 204
        },
        "outputId": "b2dae914-2970-4ed0-ecb7-582ceb8f92fb"
      },
      "source": [
        "python_df.head()"
      ],
      "execution_count": 46,
      "outputs": [
        {
          "output_type": "execute_result",
          "data": {
            "text/html": [
              "<div>\n",
              "<style scoped>\n",
              "    .dataframe tbody tr th:only-of-type {\n",
              "        vertical-align: middle;\n",
              "    }\n",
              "\n",
              "    .dataframe tbody tr th {\n",
              "        vertical-align: top;\n",
              "    }\n",
              "\n",
              "    .dataframe thead th {\n",
              "        text-align: right;\n",
              "    }\n",
              "</style>\n",
              "<table border=\"1\" class=\"dataframe\">\n",
              "  <thead>\n",
              "    <tr style=\"text-align: right;\">\n",
              "      <th></th>\n",
              "      <th>NumOfRespondents</th>\n",
              "      <th>NumsknewPython</th>\n",
              "    </tr>\n",
              "  </thead>\n",
              "  <tbody>\n",
              "    <tr>\n",
              "      <th>Afghanistan</th>\n",
              "      <td>44</td>\n",
              "      <td>8</td>\n",
              "    </tr>\n",
              "    <tr>\n",
              "      <th>Albania</th>\n",
              "      <td>86</td>\n",
              "      <td>23</td>\n",
              "    </tr>\n",
              "    <tr>\n",
              "      <th>Algeria</th>\n",
              "      <td>134</td>\n",
              "      <td>40</td>\n",
              "    </tr>\n",
              "    <tr>\n",
              "      <th>Andorra</th>\n",
              "      <td>7</td>\n",
              "      <td>0</td>\n",
              "    </tr>\n",
              "    <tr>\n",
              "      <th>Angola</th>\n",
              "      <td>5</td>\n",
              "      <td>2</td>\n",
              "    </tr>\n",
              "  </tbody>\n",
              "</table>\n",
              "</div>"
            ],
            "text/plain": [
              "             NumOfRespondents  NumsknewPython\n",
              "Afghanistan                44               8\n",
              "Albania                    86              23\n",
              "Algeria                   134              40\n",
              "Andorra                     7               0\n",
              "Angola                      5               2"
            ]
          },
          "metadata": {
            "tags": []
          },
          "execution_count": 46
        }
      ]
    },
    {
      "cell_type": "code",
      "metadata": {
        "id": "hyX4JgVeGAVI",
        "colab_type": "code",
        "colab": {
          "base_uri": "https://localhost:8080/",
          "height": 204
        },
        "outputId": "c4ab6de6-45ec-461c-bbab-6580a2395f2e"
      },
      "source": [
        "## Calculate the percentage knew python and add in to brand new column\n",
        "python_df[\"PctKnewPython\"] = round((python_df[\"NumsknewPython\"] / python_df[\"NumOfRespondents\"]) * 100,2)\n",
        "python_df.head()"
      ],
      "execution_count": 47,
      "outputs": [
        {
          "output_type": "execute_result",
          "data": {
            "text/html": [
              "<div>\n",
              "<style scoped>\n",
              "    .dataframe tbody tr th:only-of-type {\n",
              "        vertical-align: middle;\n",
              "    }\n",
              "\n",
              "    .dataframe tbody tr th {\n",
              "        vertical-align: top;\n",
              "    }\n",
              "\n",
              "    .dataframe thead th {\n",
              "        text-align: right;\n",
              "    }\n",
              "</style>\n",
              "<table border=\"1\" class=\"dataframe\">\n",
              "  <thead>\n",
              "    <tr style=\"text-align: right;\">\n",
              "      <th></th>\n",
              "      <th>NumOfRespondents</th>\n",
              "      <th>NumsknewPython</th>\n",
              "      <th>PctKnewPython</th>\n",
              "    </tr>\n",
              "  </thead>\n",
              "  <tbody>\n",
              "    <tr>\n",
              "      <th>Afghanistan</th>\n",
              "      <td>44</td>\n",
              "      <td>8</td>\n",
              "      <td>18.18</td>\n",
              "    </tr>\n",
              "    <tr>\n",
              "      <th>Albania</th>\n",
              "      <td>86</td>\n",
              "      <td>23</td>\n",
              "      <td>26.74</td>\n",
              "    </tr>\n",
              "    <tr>\n",
              "      <th>Algeria</th>\n",
              "      <td>134</td>\n",
              "      <td>40</td>\n",
              "      <td>29.85</td>\n",
              "    </tr>\n",
              "    <tr>\n",
              "      <th>Andorra</th>\n",
              "      <td>7</td>\n",
              "      <td>0</td>\n",
              "      <td>0.00</td>\n",
              "    </tr>\n",
              "    <tr>\n",
              "      <th>Angola</th>\n",
              "      <td>5</td>\n",
              "      <td>2</td>\n",
              "      <td>40.00</td>\n",
              "    </tr>\n",
              "  </tbody>\n",
              "</table>\n",
              "</div>"
            ],
            "text/plain": [
              "             NumOfRespondents  NumsknewPython  PctKnewPython\n",
              "Afghanistan                44               8          18.18\n",
              "Albania                    86              23          26.74\n",
              "Algeria                   134              40          29.85\n",
              "Andorra                     7               0           0.00\n",
              "Angola                      5               2          40.00"
            ]
          },
          "metadata": {
            "tags": []
          },
          "execution_count": 47
        }
      ]
    },
    {
      "cell_type": "code",
      "metadata": {
        "id": "1JGKVjphG2qY",
        "colab_type": "code",
        "colab": {
          "base_uri": "https://localhost:8080/",
          "height": 419
        },
        "outputId": "883233b8-9b14-48af-aa04-2276d79aaff3"
      },
      "source": [
        "## Sort Values\n",
        "python_df.sort_index(ascending=True)"
      ],
      "execution_count": 51,
      "outputs": [
        {
          "output_type": "execute_result",
          "data": {
            "text/html": [
              "<div>\n",
              "<style scoped>\n",
              "    .dataframe tbody tr th:only-of-type {\n",
              "        vertical-align: middle;\n",
              "    }\n",
              "\n",
              "    .dataframe tbody tr th {\n",
              "        vertical-align: top;\n",
              "    }\n",
              "\n",
              "    .dataframe thead th {\n",
              "        text-align: right;\n",
              "    }\n",
              "</style>\n",
              "<table border=\"1\" class=\"dataframe\">\n",
              "  <thead>\n",
              "    <tr style=\"text-align: right;\">\n",
              "      <th></th>\n",
              "      <th>NumOfRespondents</th>\n",
              "      <th>NumsknewPython</th>\n",
              "      <th>PctKnewPython</th>\n",
              "    </tr>\n",
              "  </thead>\n",
              "  <tbody>\n",
              "    <tr>\n",
              "      <th>Afghanistan</th>\n",
              "      <td>44</td>\n",
              "      <td>8</td>\n",
              "      <td>18.18</td>\n",
              "    </tr>\n",
              "    <tr>\n",
              "      <th>Albania</th>\n",
              "      <td>86</td>\n",
              "      <td>23</td>\n",
              "      <td>26.74</td>\n",
              "    </tr>\n",
              "    <tr>\n",
              "      <th>Algeria</th>\n",
              "      <td>134</td>\n",
              "      <td>40</td>\n",
              "      <td>29.85</td>\n",
              "    </tr>\n",
              "    <tr>\n",
              "      <th>Andorra</th>\n",
              "      <td>7</td>\n",
              "      <td>0</td>\n",
              "      <td>0.00</td>\n",
              "    </tr>\n",
              "    <tr>\n",
              "      <th>Angola</th>\n",
              "      <td>5</td>\n",
              "      <td>2</td>\n",
              "      <td>40.00</td>\n",
              "    </tr>\n",
              "    <tr>\n",
              "      <th>...</th>\n",
              "      <td>...</td>\n",
              "      <td>...</td>\n",
              "      <td>...</td>\n",
              "    </tr>\n",
              "    <tr>\n",
              "      <th>Venezuela, Bolivarian Republic of...</th>\n",
              "      <td>88</td>\n",
              "      <td>28</td>\n",
              "      <td>31.82</td>\n",
              "    </tr>\n",
              "    <tr>\n",
              "      <th>Viet Nam</th>\n",
              "      <td>231</td>\n",
              "      <td>78</td>\n",
              "      <td>33.77</td>\n",
              "    </tr>\n",
              "    <tr>\n",
              "      <th>Yemen</th>\n",
              "      <td>19</td>\n",
              "      <td>3</td>\n",
              "      <td>15.79</td>\n",
              "    </tr>\n",
              "    <tr>\n",
              "      <th>Zambia</th>\n",
              "      <td>12</td>\n",
              "      <td>4</td>\n",
              "      <td>33.33</td>\n",
              "    </tr>\n",
              "    <tr>\n",
              "      <th>Zimbabwe</th>\n",
              "      <td>39</td>\n",
              "      <td>14</td>\n",
              "      <td>35.90</td>\n",
              "    </tr>\n",
              "  </tbody>\n",
              "</table>\n",
              "<p>179 rows × 3 columns</p>\n",
              "</div>"
            ],
            "text/plain": [
              "                                      NumOfRespondents  ...  PctKnewPython\n",
              "Afghanistan                                         44  ...          18.18\n",
              "Albania                                             86  ...          26.74\n",
              "Algeria                                            134  ...          29.85\n",
              "Andorra                                              7  ...           0.00\n",
              "Angola                                               5  ...          40.00\n",
              "...                                                ...  ...            ...\n",
              "Venezuela, Bolivarian Republic of...                88  ...          31.82\n",
              "Viet Nam                                           231  ...          33.77\n",
              "Yemen                                               19  ...          15.79\n",
              "Zambia                                              12  ...          33.33\n",
              "Zimbabwe                                            39  ...          35.90\n",
              "\n",
              "[179 rows x 3 columns]"
            ]
          },
          "metadata": {
            "tags": []
          },
          "execution_count": 51
        }
      ]
    }
  ]
}